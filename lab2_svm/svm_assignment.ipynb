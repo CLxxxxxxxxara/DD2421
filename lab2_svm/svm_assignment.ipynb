{
 "cells": [
  {
   "cell_type": "code",
   "execution_count": 1,
   "metadata": {},
   "outputs": [],
   "source": [
    "import numpy, random, math \n",
    "from scipy.optimize import minimize\n",
    "import matplotlib.pyplot as plt\n"
   ]
  },
  {
   "cell_type": "markdown",
   "metadata": {},
   "source": [
    "Generate datasets"
   ]
  },
  {
   "cell_type": "code",
   "execution_count": 6,
   "metadata": {},
   "outputs": [],
   "source": [
    "classA = numpy.concatenate(\n",
    "    (numpy.random.randn(10,2)*0.2 +[1.5,0.5],\n",
    "     numpy.random.randn(10,2)*0.2 +[-1.5,0.5],)\n",
    ")\n",
    "classB = numpy.random.randn(20,2)*0.2 +[0.0,-0.5]\n",
    "\n",
    "inputs = numpy.concatenate((classA, classB))\n",
    "targets= numpy.concatenate((numpy.ones(classA.shape[0]),\n",
    "                           -numpy.ones(classB.shape[0])))\n",
    "\n",
    "N = inputs.shape[0]\n",
    "\n",
    "permute = list(range(N))\n",
    "random.shuffle(permute)\n",
    "inputs = inputs[permute,:]\n",
    "targets = targets[permute]\n"
   ]
  },
  {
   "cell_type": "markdown",
   "metadata": {},
   "source": [
    "Implement the function objective"
   ]
  },
  {
   "cell_type": "code",
   "execution_count": null,
   "metadata": {},
   "outputs": [],
   "source": [
    "def objective(alpha):\n",
    "    numpy.array()\n",
    "    numpy.dot()"
   ]
  },
  {
   "cell_type": "markdown",
   "metadata": {},
   "source": [
    "Implement the function zerofun"
   ]
  },
  {
   "cell_type": "code",
   "execution_count": null,
   "metadata": {},
   "outputs": [],
   "source": [
    "def zerofun(alpha):"
   ]
  },
  {
   "cell_type": "markdown",
   "metadata": {},
   "source": [
    "Call minimize"
   ]
  },
  {
   "cell_type": "code",
   "execution_count": null,
   "metadata": {},
   "outputs": [],
   "source": [
    "start = numpy.zeros(N)\n",
    "XC = {'type':'eq', 'fun':zerofun}\n",
    "ret = minimize(objective, start, bounds=B, constraints=XC)\n",
    "alpha = ret['x']"
   ]
  }
 ],
 "metadata": {
  "kernelspec": {
   "display_name": "environ2233",
   "language": "python",
   "name": "python3"
  },
  "language_info": {
   "codemirror_mode": {
    "name": "ipython",
    "version": 3
   },
   "file_extension": ".py",
   "mimetype": "text/x-python",
   "name": "python",
   "nbconvert_exporter": "python",
   "pygments_lexer": "ipython3",
   "version": "3.9.18"
  },
  "orig_nbformat": 4
 },
 "nbformat": 4,
 "nbformat_minor": 2
}
