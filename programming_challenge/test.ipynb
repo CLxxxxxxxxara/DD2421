{
 "cells": [
  {
   "cell_type": "code",
   "execution_count": 7,
   "metadata": {},
   "outputs": [],
   "source": [
    "import os"
   ]
  },
  {
   "cell_type": "code",
   "execution_count": 8,
   "metadata": {},
   "outputs": [
    {
     "name": "stdout",
     "output_type": "stream",
     "text": [
      "7435\n"
     ]
    }
   ],
   "source": [
    "\n",
    "file1 = 'evaluation_prediction.txt'\n",
    "file2 = 'EvaluationGT.csv'\n",
    "with open(file1,'r') as f:\n",
    "    lines = f.readlines()[:]\n",
    "\n",
    "data1 = [line.strip() for line in lines]\n",
    "\n",
    "with open(file2,'r') as f:\n",
    "    lines = f.readlines()[:]\n",
    "\n",
    "data2 = [line.strip() for line in lines]\n",
    "\n",
    "same = 0\n",
    "for i in range(10000):\n",
    "    if data1[i]==data2[i]:\n",
    "        same+=1\n",
    "\n",
    "print(same)"
   ]
  },
  {
   "cell_type": "code",
   "execution_count": null,
   "metadata": {},
   "outputs": [],
   "source": []
  }
 ],
 "metadata": {
  "kernelspec": {
   "display_name": "environ2233",
   "language": "python",
   "name": "python3"
  },
  "language_info": {
   "codemirror_mode": {
    "name": "ipython",
    "version": 3
   },
   "file_extension": ".py",
   "mimetype": "text/x-python",
   "name": "python",
   "nbconvert_exporter": "python",
   "pygments_lexer": "ipython3",
   "version": "3.9.18"
  }
 },
 "nbformat": 4,
 "nbformat_minor": 2
}
